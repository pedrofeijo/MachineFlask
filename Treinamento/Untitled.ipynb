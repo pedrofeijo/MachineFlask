{
 "cells": [
  {
   "cell_type": "code",
   "execution_count": 5,
   "metadata": {},
   "outputs": [
    {
     "data": {
      "text/html": [
       "<div>\n",
       "<style scoped>\n",
       "    .dataframe tbody tr th:only-of-type {\n",
       "        vertical-align: middle;\n",
       "    }\n",
       "\n",
       "    .dataframe tbody tr th {\n",
       "        vertical-align: top;\n",
       "    }\n",
       "\n",
       "    .dataframe thead th {\n",
       "        text-align: right;\n",
       "    }\n",
       "</style>\n",
       "<table border=\"1\" class=\"dataframe\">\n",
       "  <thead>\n",
       "    <tr style=\"text-align: right;\">\n",
       "      <th></th>\n",
       "      <th>sepal_length</th>\n",
       "      <th>sepal_width</th>\n",
       "      <th>petal_length</th>\n",
       "      <th>petal_width</th>\n",
       "      <th>class</th>\n",
       "    </tr>\n",
       "  </thead>\n",
       "  <tbody>\n",
       "    <tr>\n",
       "      <th>0</th>\n",
       "      <td>5.1</td>\n",
       "      <td>3.5</td>\n",
       "      <td>1.4</td>\n",
       "      <td>0.2</td>\n",
       "      <td>1</td>\n",
       "    </tr>\n",
       "    <tr>\n",
       "      <th>1</th>\n",
       "      <td>4.9</td>\n",
       "      <td>3.0</td>\n",
       "      <td>1.4</td>\n",
       "      <td>0.2</td>\n",
       "      <td>1</td>\n",
       "    </tr>\n",
       "    <tr>\n",
       "      <th>2</th>\n",
       "      <td>4.7</td>\n",
       "      <td>3.2</td>\n",
       "      <td>1.3</td>\n",
       "      <td>0.2</td>\n",
       "      <td>1</td>\n",
       "    </tr>\n",
       "    <tr>\n",
       "      <th>3</th>\n",
       "      <td>4.6</td>\n",
       "      <td>3.1</td>\n",
       "      <td>1.5</td>\n",
       "      <td>0.2</td>\n",
       "      <td>1</td>\n",
       "    </tr>\n",
       "    <tr>\n",
       "      <th>4</th>\n",
       "      <td>5.0</td>\n",
       "      <td>3.6</td>\n",
       "      <td>1.4</td>\n",
       "      <td>0.2</td>\n",
       "      <td>1</td>\n",
       "    </tr>\n",
       "  </tbody>\n",
       "</table>\n",
       "</div>"
      ],
      "text/plain": [
       "   sepal_length  sepal_width  petal_length  petal_width  class\n",
       "0           5.1          3.5           1.4          0.2      1\n",
       "1           4.9          3.0           1.4          0.2      1\n",
       "2           4.7          3.2           1.3          0.2      1\n",
       "3           4.6          3.1           1.5          0.2      1\n",
       "4           5.0          3.6           1.4          0.2      1"
      ]
     },
     "execution_count": 5,
     "metadata": {},
     "output_type": "execute_result"
    }
   ],
   "source": [
    "import pandas as pd\n",
    "\n",
    "data = pd.read_csv('/home/feijo/Documents/Treinamento/iris.csv', names=['sepal_length', 'sepal_width', 'petal_length', 'petal_width', 'class'])\n",
    "data.head()\n",
    "\n",
    "# class 1 = setosa\n"
   ]
  },
  {
   "cell_type": "code",
   "execution_count": 8,
   "metadata": {},
   "outputs": [
    {
     "data": {
      "text/html": [
       "<div>\n",
       "<style scoped>\n",
       "    .dataframe tbody tr th:only-of-type {\n",
       "        vertical-align: middle;\n",
       "    }\n",
       "\n",
       "    .dataframe tbody tr th {\n",
       "        vertical-align: top;\n",
       "    }\n",
       "\n",
       "    .dataframe thead th {\n",
       "        text-align: right;\n",
       "    }\n",
       "</style>\n",
       "<table border=\"1\" class=\"dataframe\">\n",
       "  <thead>\n",
       "    <tr style=\"text-align: right;\">\n",
       "      <th></th>\n",
       "      <th>sepal_length</th>\n",
       "      <th>sepal_width</th>\n",
       "      <th>petal_length</th>\n",
       "      <th>petal_width</th>\n",
       "      <th>class</th>\n",
       "    </tr>\n",
       "  </thead>\n",
       "  <tbody>\n",
       "    <tr>\n",
       "      <th>0</th>\n",
       "      <td>5.1</td>\n",
       "      <td>3.5</td>\n",
       "      <td>1.4</td>\n",
       "      <td>0.2</td>\n",
       "      <td>0</td>\n",
       "    </tr>\n",
       "    <tr>\n",
       "      <th>1</th>\n",
       "      <td>4.9</td>\n",
       "      <td>3.0</td>\n",
       "      <td>1.4</td>\n",
       "      <td>0.2</td>\n",
       "      <td>0</td>\n",
       "    </tr>\n",
       "    <tr>\n",
       "      <th>2</th>\n",
       "      <td>4.7</td>\n",
       "      <td>3.2</td>\n",
       "      <td>1.3</td>\n",
       "      <td>0.2</td>\n",
       "      <td>0</td>\n",
       "    </tr>\n",
       "    <tr>\n",
       "      <th>3</th>\n",
       "      <td>4.6</td>\n",
       "      <td>3.1</td>\n",
       "      <td>1.5</td>\n",
       "      <td>0.2</td>\n",
       "      <td>0</td>\n",
       "    </tr>\n",
       "    <tr>\n",
       "      <th>4</th>\n",
       "      <td>5.0</td>\n",
       "      <td>3.6</td>\n",
       "      <td>1.4</td>\n",
       "      <td>0.2</td>\n",
       "      <td>0</td>\n",
       "    </tr>\n",
       "  </tbody>\n",
       "</table>\n",
       "</div>"
      ],
      "text/plain": [
       "   sepal_length  sepal_width  petal_length  petal_width  class\n",
       "0           5.1          3.5           1.4          0.2      0\n",
       "1           4.9          3.0           1.4          0.2      0\n",
       "2           4.7          3.2           1.3          0.2      0\n",
       "3           4.6          3.1           1.5          0.2      0\n",
       "4           5.0          3.6           1.4          0.2      0"
      ]
     },
     "execution_count": 8,
     "metadata": {},
     "output_type": "execute_result"
    }
   ],
   "source": [
    "from sklearn.preprocessing import LabelEncoder\n",
    "\n",
    "le = LabelEncoder()\n",
    "data['class'] = le.fit_transform(data['class'])\n",
    "data.head()\n",
    "\n",
    "#Dividir recursos e rotular e transformá-los em um Numpy Array\n",
    "# meu data set ja estava com rotulo em numeral\n"
   ]
  },
  {
   "cell_type": "code",
   "execution_count": 17,
   "metadata": {},
   "outputs": [],
   "source": [
    "import numpy as np\n",
    "\n",
    "X = np.array(data.drop(['class'], axis=1))\n",
    "y = np.array(data['class'])"
   ]
  },
  {
   "cell_type": "code",
   "execution_count": 10,
   "metadata": {},
   "outputs": [
    {
     "name": "stderr",
     "output_type": "stream",
     "text": [
      "/home/feijo/.local/lib/python3.5/site-packages/sklearn/linear_model/logistic.py:432: FutureWarning: Default solver will be changed to 'lbfgs' in 0.22. Specify a solver to silence this warning.\n",
      "  FutureWarning)\n",
      "/home/feijo/.local/lib/python3.5/site-packages/sklearn/linear_model/logistic.py:469: FutureWarning: Default multi_class will be changed to 'auto' in 0.22. Specify the multi_class option to silence this warning.\n",
      "  \"this warning.\", FutureWarning)\n"
     ]
    },
    {
     "data": {
      "text/plain": [
       "LogisticRegression(C=1.0, class_weight=None, dual=False, fit_intercept=True,\n",
       "                   intercept_scaling=1, l1_ratio=None, max_iter=100,\n",
       "                   multi_class='warn', n_jobs=None, penalty='l2',\n",
       "                   random_state=None, solver='warn', tol=0.0001, verbose=0,\n",
       "                   warm_start=False)"
      ]
     },
     "execution_count": 10,
     "metadata": {},
     "output_type": "execute_result"
    }
   ],
   "source": [
    "from sklearn.linear_model import LogisticRegression\n",
    "\n",
    "clf = LogisticRegression()\n",
    "clf.fit(X, y)"
   ]
  },
  {
   "cell_type": "code",
   "execution_count": 22,
   "metadata": {},
   "outputs": [
    {
     "data": {
      "text/plain": [
       "0.96"
      ]
     },
     "execution_count": 22,
     "metadata": {},
     "output_type": "execute_result"
    }
   ],
   "source": [
    "accuracy = clf.score(X, y)\n",
    "accuracy"
   ]
  },
  {
   "cell_type": "code",
   "execution_count": 19,
   "metadata": {},
   "outputs": [
    {
     "data": {
      "text/plain": [
       "0.96"
      ]
     },
     "execution_count": 19,
     "metadata": {},
     "output_type": "execute_result"
    }
   ],
   "source": [
    "accuracy"
   ]
  },
  {
   "cell_type": "code",
   "execution_count": 1,
   "metadata": {},
   "outputs": [
    {
     "name": "stdout",
     "output_type": "stream",
     "text": [
      "Package                       Version               \n",
      "----------------------------- ----------------------\n",
      "apturl                        0.5.2                 \n",
      "astroid                       2.2.5                 \n",
      "attrs                         19.1.0                \n",
      "backcall                      0.1.0                 \n",
      "beautifulsoup4                4.4.1                 \n",
      "bleach                        3.1.0                 \n",
      "blinker                       1.3                   \n",
      "Brlapi                        0.6.4                 \n",
      "chardet                       2.3.0                 \n",
      "checkbox-support              0.22                  \n",
      "Click                         7.0                   \n",
      "command-not-found             0.3                   \n",
      "cryptography                  1.2.3                 \n",
      "cycler                        0.10.0                \n",
      "Cython                        0.29.13               \n",
      "decorator                     4.4.0                 \n",
      "defer                         1.0.6                 \n",
      "defusedxml                    0.6.0                 \n",
      "entrypoints                   0.3                   \n",
      "feedparser                    5.1.3                 \n",
      "Flask                         1.1.1                 \n",
      "guacamole                     0.9.2                 \n",
      "html5lib                      0.999                 \n",
      "httplib2                      0.9.1                 \n",
      "idna                          2.0                   \n",
      "ipykernel                     5.1.2                 \n",
      "ipython                       7.8.0                 \n",
      "ipython-genutils              0.2.0                 \n",
      "ipywidgets                    7.5.1                 \n",
      "isort                         4.3.21                \n",
      "itsdangerous                  1.1.0                 \n",
      "jedi                          0.15.1                \n",
      "Jinja2                        2.10.1                \n",
      "joblib                        0.13.2                \n",
      "jsonschema                    3.0.2                 \n",
      "jupyter                       1.0.0                 \n",
      "jupyter-client                5.3.1                 \n",
      "jupyter-console               6.0.0                 \n",
      "jupyter-core                  4.5.0                 \n",
      "kiwisolver                    1.1.0                 \n",
      "language-selector             0.1                   \n",
      "lazy-object-proxy             1.4.2                 \n",
      "louis                         2.6.4                 \n",
      "lxml                          3.5.0                 \n",
      "Mako                          1.0.3                 \n",
      "MarkupSafe                    1.1.1                 \n",
      "matplotlib                    3.0.3                 \n",
      "mccabe                        0.6.1                 \n",
      "mistune                       0.8.4                 \n",
      "nbconvert                     5.6.0                 \n",
      "nbformat                      4.4.0                 \n",
      "notebook                      6.0.1                 \n",
      "numpy                         1.17.1                \n",
      "oauthlib                      1.0.3                 \n",
      "onboard                       1.2.0                 \n",
      "open3d                        0.8.0.0               \n",
      "opencv-python                 4.1.1.26              \n",
      "padme                         1.1.1                 \n",
      "pandas                        0.24.2                \n",
      "pandocfilters                 1.4.2                 \n",
      "parso                         0.5.1                 \n",
      "pexpect                       4.7.0                 \n",
      "pickleshare                   0.7.5                 \n",
      "Pillow                        3.1.2                 \n",
      "pip                           19.2.3                \n",
      "plainbox                      0.25                  \n",
      "pptk                          0.1.0                 \n",
      "prometheus-client             0.7.1                 \n",
      "prompt-toolkit                2.0.9                 \n",
      "ptyprocess                    0.6.0                 \n",
      "pyasn1                        0.1.9                 \n",
      "pycups                        1.9.73                \n",
      "pycurl                        7.43.0                \n",
      "Pygments                      2.4.2                 \n",
      "pygobject                     3.20.0                \n",
      "PyJWT                         1.3.0                 \n",
      "pylint                        2.3.1                 \n",
      "pyntcloud                     0.0.1                 \n",
      "pyparsing                     2.0.3                 \n",
      "pyrsistent                    0.15.4                \n",
      "python-apt                    1.1.0b1+ubuntu0.16.4.5\n",
      "python-dateutil               2.8.0                 \n",
      "python-debian                 0.1.27                \n",
      "python-systemd                231                   \n",
      "pytz                          2019.2                \n",
      "pyxdg                         0.25                  \n",
      "pyzmq                         18.1.0                \n",
      "qtconsole                     4.5.5                 \n",
      "reportlab                     3.3.0                 \n",
      "requests                      2.9.1                 \n",
      "scikit-learn                  0.21.3                \n",
      "scipy                         1.3.1                 \n",
      "Send2Trash                    1.5.0                 \n",
      "sessioninstaller              0.0.0                 \n",
      "setuptools                    41.2.0                \n",
      "six                           1.12.0                \n",
      "sklearn                       0.0                   \n",
      "ssh-import-id                 5.5                   \n",
      "system-service                0.3                   \n",
      "terminado                     0.8.2                 \n",
      "testpath                      0.4.2                 \n",
      "tornado                       6.0.3                 \n",
      "traitlets                     4.3.2                 \n",
      "typed-ast                     1.4.0                 \n",
      "ubuntu-drivers-common         0.0.0                 \n",
      "ufw                           0.35                  \n",
      "unattended-upgrades           0.1                   \n",
      "unity-scope-calculator        0.1                   \n",
      "unity-scope-chromiumbookmarks 0.1                   \n",
      "unity-scope-colourlovers      0.1                   \n",
      "unity-scope-devhelp           0.1                   \n",
      "unity-scope-firefoxbookmarks  0.1                   \n",
      "unity-scope-gdrive            0.7                   \n",
      "unity-scope-manpages          0.1                   \n",
      "unity-scope-openclipart       0.1                   \n",
      "unity-scope-texdoc            0.1                   \n",
      "unity-scope-tomboy            0.1                   \n",
      "unity-scope-virtualbox        0.1                   \n",
      "unity-scope-yelp              0.1                   \n",
      "unity-scope-zotero            0.1                   \n",
      "urllib3                       1.13.1                \n",
      "usb-creator                   0.3.0                 \n",
      "virtualenv                    16.7.5                \n",
      "wcwidth                       0.1.7                 \n",
      "webencodings                  0.5.1                 \n",
      "Werkzeug                      0.16.0                \n",
      "wheel                         0.29.0                \n",
      "widgetsnbextension            3.5.1                 \n",
      "wrapt                         1.11.2                \n",
      "xdiagnose                     3.8.4.1               \n",
      "xkit                          0.0.0                 \n",
      "XlsxWriter                    0.7.3                 \n",
      "Note: you may need to restart the kernel to use updated packages.\n"
     ]
    }
   ],
   "source": [
    "pip list"
   ]
  },
  {
   "cell_type": "code",
   "execution_count": null,
   "metadata": {},
   "outputs": [],
   "source": []
  }
 ],
 "metadata": {
  "kernelspec": {
   "display_name": "Python 3",
   "language": "python",
   "name": "python3"
  },
  "language_info": {
   "codemirror_mode": {
    "name": "ipython",
    "version": 3
   },
   "file_extension": ".py",
   "mimetype": "text/x-python",
   "name": "python",
   "nbconvert_exporter": "python",
   "pygments_lexer": "ipython3",
   "version": "3.5.2"
  }
 },
 "nbformat": 4,
 "nbformat_minor": 2
}
